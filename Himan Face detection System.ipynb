{
 "cells": [
  {
   "cell_type": "markdown",
   "id": "increased-investor",
   "metadata": {},
   "source": [
    "# Indian Human Image Classification B21"
   ]
  },
  {
   "cell_type": "code",
   "execution_count": null,
   "id": "aware-general",
   "metadata": {},
   "outputs": [],
   "source": [
    "from matplotlib import pyplot as plt\n",
    "import matplotlib.pyplot as plt\n",
    "from tensorflow import keras\n",
    "import tensorflow as tf\n",
    "from numpy import save\n",
    "import numpy as np\n",
    "import matplotlib\n",
    "import numpy as np \n",
    "import random\n",
    "import cv2\n",
    "import os"
   ]
  },
  {
   "cell_type": "markdown",
   "id": "realistic-plastic",
   "metadata": {},
   "source": [
    "# Cropping and filtering Human Images"
   ]
  },
  {
   "cell_type": "code",
   "execution_count": 2,
   "id": "going-status",
   "metadata": {},
   "outputs": [],
   "source": [
    "face_cascade = cv2.CascadeClassifier('/home/saksham/Desktop/opencv-master/data/haarcascades/haarcascade_frontalface_default.xml')\n",
    "eye_cascade = cv2.CascadeClassifier('/home/saksham/Desktop/opencv-master/data/haarcascades/haarcascade_eye.xml')\n"
   ]
  },
  {
   "cell_type": "code",
   "execution_count": 6,
   "id": "specified-librarian",
   "metadata": {},
   "outputs": [],
   "source": [
    "path_to_data = \"C:/Users/Dell/Desktop/cropped/cropped\"\n",
    "path_to_cr_data = \"C:/Users/Dell/Desktop/cropped\""
   ]
  },
  {
   "cell_type": "code",
   "execution_count": 7,
   "id": "bacterial-issue",
   "metadata": {},
   "outputs": [],
   "source": [
    "def get_cropped_image_if_2_eyes(image_path):\n",
    "    img = cv2.imread(image_path)\n",
    "    if not img is None:\n",
    "        gray = cv2.cvtColor(img, cv2.COLOR_BGR2GRAY)\n",
    "        faces = face_cascade.detectMultiScale(gray, 1.3, 5)\n",
    "        for (x,y,w,h) in faces:\n",
    "            roi_gray = gray[y:y+h, x:x+w]\n",
    "            roi_color = img[y:y+h, x:x+w]\n",
    "            eyes = eye_cascade.detectMultiScale(roi_gray)\n",
    "            if len(eyes) >= 2:\n",
    "                return roi_color"
   ]
  },
  {
   "cell_type": "code",
   "execution_count": 8,
   "id": "incoming-morning",
   "metadata": {},
   "outputs": [],
   "source": [
    "img_dirs=[path_to_data]"
   ]
  },
  {
   "cell_type": "code",
   "execution_count": 9,
   "id": "geological-christian",
   "metadata": {},
   "outputs": [
    {
     "data": {
      "text/plain": [
       "['C:/Users/Dell/Desktop/cropped/cropped']"
      ]
     },
     "execution_count": 9,
     "metadata": {},
     "output_type": "execute_result"
    }
   ],
   "source": [
    "img_dirs"
   ]
  },
  {
   "cell_type": "code",
   "execution_count": 10,
   "id": "alive-completion",
   "metadata": {},
   "outputs": [],
   "source": [
    "import shutil\n",
    "if os.path.exists(path_to_cr_data):\n",
    "     shutil.rmtree(path_to_cr_data)\n",
    "os.mkdir(path_to_cr_data)"
   ]
  },
  {
   "cell_type": "code",
   "execution_count": 94,
   "id": "stretch-access",
   "metadata": {},
   "outputs": [],
   "source": [
    "cropped_image_dirs = []\n",
    "dictitems = {}\n",
    "for img_dir in img_dirs:\n",
    "    count = 1\n",
    "    img_name = img_dir.split('/')[-1]\n",
    "    dictitems[img_name] = []\n",
    "    for entry in os.scandir(img_dir):\n",
    "        roi_color = get_cropped_image_if_2_eyes(entry.path)\n",
    "        if roi_color is not None:\n",
    "            cropped_folder = path_to_cr_data + img_name\n",
    "            if not os.path.exists(cropped_folder):\n",
    "                os.makedirs(cropped_folder)\n",
    "                cropped_image_dirs.append(cropped_folder)\n",
    "                print(\"Generating cropped images in folder: \",cropped_folder)\n",
    "            cropped_file_name = img_name + str(count) + \".jpeg\"\n",
    "            cropped_file_path = cropped_folder + \"/\" + cropped_file_name\n",
    "            cv2.imwrite(cropped_file_path, roi_color)\n",
    "            dictitems[img_name].append(cropped_file_path)\n",
    "            count += 1"
   ]
  },
  {
   "cell_type": "markdown",
   "id": "photographic-cheat",
   "metadata": {},
   "source": [
    "# Training the model"
   ]
  },
  {
   "cell_type": "code",
   "execution_count": 4,
   "id": "indian-planet",
   "metadata": {},
   "outputs": [
    {
     "name": "stdout",
     "output_type": "stream",
     "text": [
      "foreigners\n",
      "indians\n"
     ]
    }
   ],
   "source": [
    "image_size=64\n",
    "dir = \"C:/Users/Dell/Desktop/cropped/cropped\"  \n",
    "catagories = [\"foreigners\" , \"indians\"]\n",
    "train_data = []\n",
    "for categ in catagories:\n",
    " print(categ) \n",
    " try:\n",
    "     path = os.path.join(dir , categ)  \n",
    "     class_name = catagories.index(categ)\n",
    "     for img in os.listdir(path):\n",
    "          img_array = cv2.imread(os.path.join(path, img), cv2.IMREAD_COLOR)\n",
    "          new_array = cv2.resize(img_array , (image_size , image_size))\n",
    "          train_data.append([new_array , class_name])\n",
    " except Exception as e:\n",
    "     pass"
   ]
  },
  {
   "cell_type": "code",
   "execution_count": 5,
   "id": "baking-lambda",
   "metadata": {},
   "outputs": [],
   "source": [
    "random.shuffle(train_data)\n",
    "# print(train_data[1][0])\n",
    "x_train = np.zeros((len(train_data),64,64,3))\n",
    "y_train = np.ndarray((len(train_data),) , int)\n",
    "for i in range(len(train_data)):\n",
    "    x_train[i]=train_data[i][0]\n",
    "    y_train[i]=train_data[i][1]"
   ]
  },
  {
   "cell_type": "code",
   "execution_count": 6,
   "id": "placed-neighbor",
   "metadata": {},
   "outputs": [],
   "source": [
    "x_train = x_train/255\n",
    "save('x_train.npy' , x_train)"
   ]
  },
  {
   "cell_type": "code",
   "execution_count": 7,
   "id": "decreased-institution",
   "metadata": {},
   "outputs": [],
   "source": [
    "save('y_train.npy' , y_train)"
   ]
  },
  {
   "cell_type": "code",
   "execution_count": 8,
   "id": "potential-facing",
   "metadata": {},
   "outputs": [
    {
     "data": {
      "text/plain": [
       "(2731, 64, 64, 3)"
      ]
     },
     "execution_count": 8,
     "metadata": {},
     "output_type": "execute_result"
    }
   ],
   "source": [
    "x_train.shape"
   ]
  },
  {
   "cell_type": "code",
   "execution_count": 9,
   "id": "international-lawsuit",
   "metadata": {},
   "outputs": [
    {
     "data": {
      "text/plain": [
       "(2731,)"
      ]
     },
     "execution_count": 9,
     "metadata": {},
     "output_type": "execute_result"
    }
   ],
   "source": [
    "y_train.shape"
   ]
  },
  {
   "cell_type": "code",
   "execution_count": 10,
   "id": "grateful-special",
   "metadata": {},
   "outputs": [],
   "source": [
    "dir_test = \"C:/Users/Dell/Desktop/cropped/cropped/test\"\n",
    "catagorie = [\"foreigners\" , \"indians\"]\n",
    "test_data = []\n",
    "for c in catagorie:\n",
    " try:\n",
    "     path_test = os.path.join(dir_test , c)  \n",
    "     class_name_test = catagorie.index(c)\n",
    "     for img_test in os.listdir(path_test):\n",
    "          img_array_test = cv2.imread(os.path.join(path_test, img_test) , cv2.IMREAD_COLOR)\n",
    "          new_array_test = cv2.resize(img_array_test , (image_size , image_size))\n",
    "          test_data.append([new_array_test , class_name_test])\n",
    " except Exception as e_test:\n",
    "     pass\n",
    "\n",
    "random.shuffle(test_data)\n",
    "x_test = np.zeros((len(test_data),64,64,3))\n",
    "y_test = np.ndarray((len(test_data),) , int)\n",
    "for i in range(len(test_data)):\n",
    "    x_test[i]=test_data[i][0]\n",
    "    y_test[i]=test_data[i][1]\n",
    "x_test = x_test/255\n"
   ]
  },
  {
   "cell_type": "code",
   "execution_count": 11,
   "id": "exciting-english",
   "metadata": {},
   "outputs": [],
   "source": [
    "save('x_test.npy' , x_test)\n",
    "save('y_test.npy' , y_test)"
   ]
  },
  {
   "cell_type": "code",
   "execution_count": 13,
   "id": "geological-seeking",
   "metadata": {},
   "outputs": [],
   "source": [
    "model = tf.keras.Sequential([tf.keras.layers.Conv2D(16 , (3,3) ,activation='relu', input_shape=(64,64,3)) ,\n",
    "                             tf.keras.layers.BatchNormalization(),\n",
    "                             tf.keras.layers.MaxPool2D((2,2)),\n",
    "\n",
    "                             tf.keras.layers.Conv2D(32,(3,3) ,activation='relu' ),\n",
    "                             tf.keras.layers.BatchNormalization(),\n",
    "                             tf.keras.layers.MaxPool2D((2,2)),\n",
    "                           \n",
    "\n",
    "                             tf.keras.layers.Conv2D(64 , (3,3) , activation='relu'),\n",
    "                             tf.keras.layers.Flatten(),\n",
    "                             tf.keras.layers.Dense(128 , activation='relu'),\n",
    "                             tf.keras.layers.BatchNormalization(),\n",
    "                             tf.keras.layers.Dense(1 , activation='sigmoid')])"
   ]
  },
  {
   "cell_type": "code",
   "execution_count": 14,
   "id": "infectious-multimedia",
   "metadata": {},
   "outputs": [
    {
     "data": {
      "text/plain": [
       "(2731, 64, 64, 3)"
      ]
     },
     "execution_count": 14,
     "metadata": {},
     "output_type": "execute_result"
    }
   ],
   "source": [
    "x_train.shape"
   ]
  },
  {
   "cell_type": "code",
   "execution_count": 15,
   "id": "standing-elevation",
   "metadata": {},
   "outputs": [
    {
     "data": {
      "text/plain": [
       "(462, 64, 64, 3)"
      ]
     },
     "execution_count": 15,
     "metadata": {},
     "output_type": "execute_result"
    }
   ],
   "source": [
    "x_test.shape"
   ]
  },
  {
   "cell_type": "code",
   "execution_count": 16,
   "id": "progressive-empty",
   "metadata": {},
   "outputs": [],
   "source": [
    "model.compile(optimizer='adam',\n",
    "                loss=tf.keras.losses.BinaryCrossentropy(from_logits=True),\n",
    "                metrics=['accuracy'])"
   ]
  },
  {
   "cell_type": "code",
   "execution_count": 17,
   "id": "significant-moldova",
   "metadata": {},
   "outputs": [
    {
     "name": "stdout",
     "output_type": "stream",
     "text": [
      "Epoch 1/30\n",
      "86/86 [==============================] - 18s 160ms/step - loss: 0.6433 - accuracy: 0.7054 - val_loss: 0.7962 - val_accuracy: 0.5325\n",
      "Epoch 2/30\n",
      "86/86 [==============================] - 12s 134ms/step - loss: 0.3215 - accuracy: 0.8604 - val_loss: 1.3203 - val_accuracy: 0.5325\n",
      "Epoch 3/30\n",
      "86/86 [==============================] - 11s 132ms/step - loss: 0.2233 - accuracy: 0.9125 - val_loss: 0.9873 - val_accuracy: 0.5325\n",
      "Epoch 4/30\n",
      "86/86 [==============================] - 11s 127ms/step - loss: 0.1669 - accuracy: 0.9334 - val_loss: 1.3137 - val_accuracy: 0.5325\n",
      "Epoch 5/30\n",
      "86/86 [==============================] - 12s 137ms/step - loss: 0.1232 - accuracy: 0.9529 - val_loss: 0.9008 - val_accuracy: 0.6840\n",
      "Epoch 6/30\n",
      "86/86 [==============================] - 11s 132ms/step - loss: 0.0765 - accuracy: 0.9733 - val_loss: 0.8808 - val_accuracy: 0.7294\n",
      "Epoch 7/30\n",
      "86/86 [==============================] - 11s 127ms/step - loss: 0.1109 - accuracy: 0.9596 - val_loss: 0.5897 - val_accuracy: 0.8009\n",
      "Epoch 8/30\n",
      "86/86 [==============================] - 11s 129ms/step - loss: 0.0424 - accuracy: 0.9870 - val_loss: 0.7469 - val_accuracy: 0.7749\n",
      "Epoch 9/30\n",
      "86/86 [==============================] - 11s 127ms/step - loss: 0.0346 - accuracy: 0.9893 - val_loss: 0.8045 - val_accuracy: 0.7727\n",
      "Epoch 10/30\n",
      "86/86 [==============================] - 12s 142ms/step - loss: 0.0393 - accuracy: 0.9899 - val_loss: 0.7477 - val_accuracy: 0.8139\n",
      "Epoch 11/30\n",
      "86/86 [==============================] - 12s 138ms/step - loss: 0.0386 - accuracy: 0.9871 - val_loss: 0.6917 - val_accuracy: 0.8203\n",
      "Epoch 12/30\n",
      "86/86 [==============================] - 12s 135ms/step - loss: 0.0220 - accuracy: 0.9949 - val_loss: 0.9128 - val_accuracy: 0.7900\n",
      "Epoch 13/30\n",
      "86/86 [==============================] - 11s 130ms/step - loss: 0.0466 - accuracy: 0.9823 - val_loss: 0.9044 - val_accuracy: 0.7879\n",
      "Epoch 14/30\n",
      "86/86 [==============================] - 12s 144ms/step - loss: 0.0488 - accuracy: 0.9826 - val_loss: 0.9334 - val_accuracy: 0.7879\n",
      "Epoch 15/30\n",
      "86/86 [==============================] - 11s 132ms/step - loss: 0.0754 - accuracy: 0.9718 - val_loss: 0.8259 - val_accuracy: 0.8052\n",
      "Epoch 16/30\n",
      "86/86 [==============================] - 11s 129ms/step - loss: 0.0387 - accuracy: 0.9841 - val_loss: 0.9544 - val_accuracy: 0.7879\n",
      "Epoch 17/30\n",
      "86/86 [==============================] - 11s 131ms/step - loss: 0.0178 - accuracy: 0.9937 - val_loss: 0.9038 - val_accuracy: 0.7706\n",
      "Epoch 18/30\n",
      "86/86 [==============================] - 11s 130ms/step - loss: 0.0096 - accuracy: 0.9987 - val_loss: 0.9319 - val_accuracy: 0.8052\n",
      "Epoch 19/30\n",
      "86/86 [==============================] - 12s 140ms/step - loss: 0.0081 - accuracy: 0.9975 - val_loss: 1.3516 - val_accuracy: 0.7792\n",
      "Epoch 20/30\n",
      "86/86 [==============================] - 12s 142ms/step - loss: 0.0028 - accuracy: 0.9999 - val_loss: 0.9582 - val_accuracy: 0.8009\n",
      "Epoch 21/30\n",
      "86/86 [==============================] - 11s 134ms/step - loss: 0.0033 - accuracy: 1.0000 - val_loss: 1.0147 - val_accuracy: 0.8052\n",
      "Epoch 22/30\n",
      "86/86 [==============================] - 12s 142ms/step - loss: 0.0012 - accuracy: 1.0000 - val_loss: 0.9559 - val_accuracy: 0.8030\n",
      "Epoch 23/30\n",
      "86/86 [==============================] - 12s 142ms/step - loss: 0.0011 - accuracy: 1.0000 - val_loss: 1.0355 - val_accuracy: 0.8030\n",
      "Epoch 24/30\n",
      "86/86 [==============================] - 12s 139ms/step - loss: 0.0052 - accuracy: 0.9992 - val_loss: 1.3005 - val_accuracy: 0.7900\n",
      "Epoch 25/30\n",
      "86/86 [==============================] - 12s 137ms/step - loss: 0.0016 - accuracy: 1.0000 - val_loss: 1.1059 - val_accuracy: 0.7944\n",
      "Epoch 26/30\n",
      "86/86 [==============================] - 13s 156ms/step - loss: 0.0010 - accuracy: 1.0000 - val_loss: 1.1194 - val_accuracy: 0.7965\n",
      "Epoch 27/30\n",
      "86/86 [==============================] - 13s 150ms/step - loss: 0.0070 - accuracy: 0.9973 - val_loss: 1.0622 - val_accuracy: 0.7987\n",
      "Epoch 28/30\n",
      "86/86 [==============================] - 12s 135ms/step - loss: 0.0263 - accuracy: 0.9892 - val_loss: 1.1549 - val_accuracy: 0.7900\n",
      "Epoch 29/30\n",
      "86/86 [==============================] - 14s 168ms/step - loss: 0.0764 - accuracy: 0.9696 - val_loss: 1.1879 - val_accuracy: 0.7641\n",
      "Epoch 30/30\n",
      "86/86 [==============================] - 12s 143ms/step - loss: 0.0705 - accuracy: 0.9696 - val_loss: 1.0459 - val_accuracy: 0.7706\n"
     ]
    }
   ],
   "source": [
    "history=model.fit(x_train,y_train , epochs=30, validation_data=(x_test,y_test))"
   ]
  },
  {
   "cell_type": "markdown",
   "id": "valuable-variable",
   "metadata": {},
   "source": [
    "# Model summary and analysis"
   ]
  },
  {
   "cell_type": "code",
   "execution_count": 19,
   "id": "included-mount",
   "metadata": {},
   "outputs": [
    {
     "name": "stdout",
     "output_type": "stream",
     "text": [
      "Model: \"sequential\"\n",
      "_________________________________________________________________\n",
      "Layer (type)                 Output Shape              Param #   \n",
      "=================================================================\n",
      "conv2d (Conv2D)              (None, 62, 62, 16)        448       \n",
      "_________________________________________________________________\n",
      "batch_normalization (BatchNo (None, 62, 62, 16)        64        \n",
      "_________________________________________________________________\n",
      "max_pooling2d (MaxPooling2D) (None, 31, 31, 16)        0         \n",
      "_________________________________________________________________\n",
      "conv2d_1 (Conv2D)            (None, 29, 29, 32)        4640      \n",
      "_________________________________________________________________\n",
      "batch_normalization_1 (Batch (None, 29, 29, 32)        128       \n",
      "_________________________________________________________________\n",
      "max_pooling2d_1 (MaxPooling2 (None, 14, 14, 32)        0         \n",
      "_________________________________________________________________\n",
      "conv2d_2 (Conv2D)            (None, 12, 12, 64)        18496     \n",
      "_________________________________________________________________\n",
      "flatten (Flatten)            (None, 9216)              0         \n",
      "_________________________________________________________________\n",
      "dense (Dense)                (None, 128)               1179776   \n",
      "_________________________________________________________________\n",
      "batch_normalization_2 (Batch (None, 128)               512       \n",
      "_________________________________________________________________\n",
      "dense_1 (Dense)              (None, 1)                 129       \n",
      "=================================================================\n",
      "Total params: 1,204,193\n",
      "Trainable params: 1,203,841\n",
      "Non-trainable params: 352\n",
      "_________________________________________________________________\n"
     ]
    }
   ],
   "source": [
    "model.summary()"
   ]
  },
  {
   "cell_type": "code",
   "execution_count": 20,
   "id": "powerful-scottish",
   "metadata": {},
   "outputs": [
    {
     "data": {
      "image/png": "[encoded data removed]",
      "text/plain": [
       "<Figure size 576x576 with 2 Axes>"
      ]
     },
     "metadata": {
      "needs_background": "light"
     },
     "output_type": "display_data"
    }
   ],
   "source": [
    "acc = history.history['accuracy']\n",
    "val_acc = history.history['val_accuracy']\n",
    "\n",
    "loss = history.history['loss']\n",
    "val_loss = history.history['val_loss']\n",
    "\n",
    "epochs_range = range(30)\n",
    "\n",
    "plt.figure(figsize=(8, 8))\n",
    "plt.subplot(1, 2, 1)\n",
    "plt.plot(epochs_range, acc, label='Training Accuracy')\n",
    "plt.plot(epochs_range, val_acc, label='Validation Accuracy')\n",
    "plt.legend(loc='lower right')\n",
    "plt.title('Training and Validation Accuracy')\n",
    "\n",
    "plt.subplot(1, 2, 2)\n",
    "plt.plot(epochs_range, loss, label='Training Loss')\n",
    "plt.plot(epochs_range, val_loss, label='Validation Loss')\n",
    "plt.legend(loc='upper right')\n",
    "plt.title('Training and Validation Loss')\n",
    "plt.show()"
   ]
  },
  {
   "cell_type": "code",
   "execution_count": 23,
   "id": "humanitarian-stream",
   "metadata": {},
   "outputs": [
    {
     "name": "stdout",
     "output_type": "stream",
     "text": [
      "Downloading data from https://m.economictimes.com/thumb/msid-72033478,width-1200,height-900,resizemode-4,imgsize-222096/sachin-tendulkar.jpg\n",
      "122880/118205 [===============================] - 0s 1us/step\n"
     ]
    }
   ],
   "source": [
    "image_url = \"https://m.economictimes.com/thumb/msid-72033478,width-1200,height-900,resizemode-4,imgsize-222096/sachin-tendulkar.jpg\"\n",
    "image_path = tf.keras.utils.get_file('sachin', origin=image_url)\n",
    "\n"
   ]
  },
  {
   "cell_type": "code",
   "execution_count": 24,
   "id": "judicial-picking",
   "metadata": {},
   "outputs": [],
   "source": [
    "img = keras.preprocessing.image.load_img(\n",
    "    image_path)\n",
    "img = keras.preprocessing.image.load_img(\n",
    "    image_path, target_size=(64, 64)\n",
    ")\n"
   ]
  },
  {
   "cell_type": "code",
   "execution_count": 25,
   "id": "powered-hepatitis",
   "metadata": {},
   "outputs": [],
   "source": [
    "img_array = keras.preprocessing.image.img_to_array(img)\n",
    "img_array = tf.expand_dims(img_array, 0)\n",
    "\n"
   ]
  },
  {
   "cell_type": "code",
   "execution_count": 26,
   "id": "deadly-accessory",
   "metadata": {},
   "outputs": [],
   "source": [
    "predictions = model.predict(img_array)"
   ]
  },
  {
   "cell_type": "code",
   "execution_count": 27,
   "id": "floral-wireless",
   "metadata": {},
   "outputs": [],
   "source": [
    "score = tf.nn.softmax(predictions[0])"
   ]
  },
  {
   "cell_type": "code",
   "execution_count": 28,
   "id": "popular-acrobat",
   "metadata": {},
   "outputs": [
    {
     "name": "stdout",
     "output_type": "stream",
     "text": [
      "This image most likely belongs to indians with a 100.00 percent confidence.\n"
     ]
    },
    {
     "data": {
      "text/plain": [
       "<matplotlib.image.AxesImage at 0x233d3552850>"
      ]
     },
     "execution_count": 28,
     "metadata": {},
     "output_type": "execute_result"
    },
    {
     "data": {
      "image/png": "[encoded data removed]",
      "text/plain": [
       "<Figure size 432x288 with 1 Axes>"
      ]
     },
     "metadata": {
      "needs_background": "light"
     },
     "output_type": "display_data"
    }
   ],
   "source": [
    "print(\n",
    "    \"This image most likely belongs to {} with a {:.2f} percent confidence.\"\n",
    "    .format(categ, 100 * np.max(score))\n",
    ")\n",
    "plt.imshow(img)"
   ]
  },
  {
   "cell_type": "code",
   "execution_count": 29,
   "id": "banned-updating",
   "metadata": {},
   "outputs": [
    {
     "name": "stdout",
     "output_type": "stream",
     "text": [
      "indians\n"
     ]
    }
   ],
   "source": [
    "print(categ)"
   ]
  }
 ],
 "metadata": {
  "kernelspec": {
   "display_name": "Python 3",
   "language": "python",
   "name": "python3"
  },
  "language_info": {
   "codemirror_mode": {
    "name": "ipython",
    "version": 3
   },
   "file_extension": ".py",
   "mimetype": "text/x-python",
   "name": "python",
   "nbconvert_exporter": "python",
   "pygments_lexer": "ipython3",
   "version": "3.8.5"
  }
 },
 "nbformat": 4,
 "nbformat_minor": 5
}
